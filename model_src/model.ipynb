{
 "cells": [
  {
   "cell_type": "code",
   "execution_count": 1,
   "id": "9f16a9a2",
   "metadata": {
    "scrolled": true
   },
   "outputs": [
    {
     "name": "stderr",
     "output_type": "stream",
     "text": [
      "2023-05-21 17:33:34.575902: I tensorflow/core/platform/cpu_feature_guard.cc:193] This TensorFlow binary is optimized with oneAPI Deep Neural Network Library (oneDNN) to use the following CPU instructions in performance-critical operations:  AVX2 AVX_VNNI FMA\n",
      "To enable them in other operations, rebuild TensorFlow with the appropriate compiler flags.\n",
      "2023-05-21 17:33:35.301979: I tensorflow/core/util/util.cc:169] oneDNN custom operations are on. You may see slightly different numerical results due to floating-point round-off errors from different computation orders. To turn them off, set the environment variable `TF_ENABLE_ONEDNN_OPTS=0`.\n",
      "2023-05-21 17:33:35.568222: E tensorflow/stream_executor/cuda/cuda_blas.cc:2981] Unable to register cuBLAS factory: Attempting to register factory for plugin cuBLAS when one has already been registered\n",
      "2023-05-21 17:33:37.723766: W tensorflow/stream_executor/platform/default/dso_loader.cc:64] Could not load dynamic library 'libnvinfer.so.7'; dlerror: libnvinfer.so.7: cannot open shared object file: No such file or directory; LD_LIBRARY_PATH: :/home/maxxt/anaconda3/envs/tf/lib/:/home/maxxt/.local/lib/python3.8/site-packages/nvidia/cudnn/lib\n",
      "2023-05-21 17:33:37.724178: W tensorflow/stream_executor/platform/default/dso_loader.cc:64] Could not load dynamic library 'libnvinfer_plugin.so.7'; dlerror: libnvinfer_plugin.so.7: cannot open shared object file: No such file or directory; LD_LIBRARY_PATH: :/home/maxxt/anaconda3/envs/tf/lib/:/home/maxxt/.local/lib/python3.8/site-packages/nvidia/cudnn/lib\n",
      "2023-05-21 17:33:37.724195: W tensorflow/compiler/tf2tensorrt/utils/py_utils.cc:38] TF-TRT Warning: Cannot dlopen some TensorRT libraries. If you would like to use Nvidia GPU with TensorRT, please make sure the missing libraries mentioned above are installed properly.\n"
     ]
    }
   ],
   "source": [
    "import matplotlib.pyplot as plt\n",
    "import pandas as pd\n",
    "import numpy as np\n",
    "import PIL\n",
    "import pathlib\n",
    "import tensorflow as tf\n",
    "import os\n",
    "\n",
    "from tensorflow import keras\n",
    "from tensorflow.keras import layers\n",
    "from tensorflow.keras.models import Sequential\n",
    "from tensorflow.keras.preprocessing.image import ImageDataGenerator"
   ]
  },
  {
   "cell_type": "code",
   "execution_count": 2,
   "id": "2ec97e93",
   "metadata": {},
   "outputs": [
    {
     "data": {
      "text/plain": [
       "True"
      ]
     },
     "execution_count": 2,
     "metadata": {},
     "output_type": "execute_result"
    }
   ],
   "source": [
    "tf.executing_eagerly()"
   ]
  },
  {
   "cell_type": "code",
   "execution_count": 3,
   "id": "65b805bc",
   "metadata": {
    "scrolled": true
   },
   "outputs": [
    {
     "name": "stderr",
     "output_type": "stream",
     "text": [
      "2023-05-21 17:33:43.800618: I tensorflow/stream_executor/cuda/cuda_gpu_executor.cc:966] could not open file to read NUMA node: /sys/bus/pci/devices/0000:01:00.0/numa_node\n",
      "Your kernel may have been built without NUMA support.\n",
      "2023-05-21 17:33:43.942579: I tensorflow/stream_executor/cuda/cuda_gpu_executor.cc:966] could not open file to read NUMA node: /sys/bus/pci/devices/0000:01:00.0/numa_node\n",
      "Your kernel may have been built without NUMA support.\n",
      "2023-05-21 17:33:43.943923: I tensorflow/stream_executor/cuda/cuda_gpu_executor.cc:966] could not open file to read NUMA node: /sys/bus/pci/devices/0000:01:00.0/numa_node\n",
      "Your kernel may have been built without NUMA support.\n"
     ]
    },
    {
     "data": {
      "text/plain": [
       "[PhysicalDevice(name='/physical_device:GPU:0', device_type='GPU')]"
      ]
     },
     "execution_count": 3,
     "metadata": {},
     "output_type": "execute_result"
    }
   ],
   "source": [
    "tf.config.list_physical_devices('GPU')"
   ]
  },
  {
   "cell_type": "code",
   "execution_count": 4,
   "id": "b1e8296c",
   "metadata": {},
   "outputs": [],
   "source": [
    "train_data_path = r'/mnt/c/Users/maxxt/Downloads/Projects/Poker Reader/archive/train'\n",
    "\n",
    "train_data_dir = pathlib.Path(train_data_path).with_suffix('')\n",
    "test_data_dir = pathlib.Path('/mnt/c/Users/maxxt/Downloads/Projects/Poker\\ Reader/archive/test')\n",
    "\n",
    "train_data_df = pd.read_csv('/mnt/c/Users/maxxt/Downloads/Projects/Poker Reader/archive/Training_set.csv')"
   ]
  },
  {
   "cell_type": "code",
   "execution_count": 5,
   "id": "0c8959ca",
   "metadata": {},
   "outputs": [],
   "source": [
    "batch_size = 8\n",
    "image_height = 180\n",
    "image_width = 180\n",
    "\n",
    "validation_percentage = .125/3\n",
    "image_size = len(train_data_df['filename'])\n",
    "\n",
    "class_names = list(set(train_data_df['label']))"
   ]
  },
  {
   "cell_type": "code",
   "execution_count": 6,
   "id": "801395b8",
   "metadata": {},
   "outputs": [],
   "source": [
    "train_data_df['label'] = train_data_df['label'].map(lambda x: class_names.index(x))"
   ]
  },
  {
   "cell_type": "code",
   "execution_count": 7,
   "id": "a7e33dab",
   "metadata": {},
   "outputs": [
    {
     "name": "stderr",
     "output_type": "stream",
     "text": [
      "2023-05-21 17:33:44.082005: I tensorflow/core/platform/cpu_feature_guard.cc:193] This TensorFlow binary is optimized with oneAPI Deep Neural Network Library (oneDNN) to use the following CPU instructions in performance-critical operations:  AVX2 AVX_VNNI FMA\n",
      "To enable them in other operations, rebuild TensorFlow with the appropriate compiler flags.\n",
      "2023-05-21 17:33:44.089567: I tensorflow/stream_executor/cuda/cuda_gpu_executor.cc:966] could not open file to read NUMA node: /sys/bus/pci/devices/0000:01:00.0/numa_node\n",
      "Your kernel may have been built without NUMA support.\n",
      "2023-05-21 17:33:44.090829: I tensorflow/stream_executor/cuda/cuda_gpu_executor.cc:966] could not open file to read NUMA node: /sys/bus/pci/devices/0000:01:00.0/numa_node\n",
      "Your kernel may have been built without NUMA support.\n",
      "2023-05-21 17:33:44.091861: I tensorflow/stream_executor/cuda/cuda_gpu_executor.cc:966] could not open file to read NUMA node: /sys/bus/pci/devices/0000:01:00.0/numa_node\n",
      "Your kernel may have been built without NUMA support.\n",
      "2023-05-21 17:33:47.909514: I tensorflow/stream_executor/cuda/cuda_gpu_executor.cc:966] could not open file to read NUMA node: /sys/bus/pci/devices/0000:01:00.0/numa_node\n",
      "Your kernel may have been built without NUMA support.\n",
      "2023-05-21 17:33:47.911799: I tensorflow/stream_executor/cuda/cuda_gpu_executor.cc:966] could not open file to read NUMA node: /sys/bus/pci/devices/0000:01:00.0/numa_node\n",
      "Your kernel may have been built without NUMA support.\n",
      "2023-05-21 17:33:47.911928: I tensorflow/core/common_runtime/gpu/gpu_device.cc:1700] Could not identify NUMA node of platform GPU id 0, defaulting to 0.  Your kernel may not have been built with NUMA support.\n",
      "2023-05-21 17:33:47.913326: I tensorflow/stream_executor/cuda/cuda_gpu_executor.cc:966] could not open file to read NUMA node: /sys/bus/pci/devices/0000:01:00.0/numa_node\n",
      "Your kernel may have been built without NUMA support.\n",
      "2023-05-21 17:33:47.913460: I tensorflow/core/common_runtime/gpu/gpu_device.cc:1616] Created device /job:localhost/replica:0/task:0/device:GPU:0 with 1589 MB memory:  -> device: 0, name: NVIDIA GeForce RTX 3050 Ti Laptop GPU, pci bus id: 0000:01:00.0, compute capability: 8.6\n"
     ]
    }
   ],
   "source": [
    "keys_tensor = tf.constant(train_data_df.filename.map(lambda x: x.encode('ascii')))\n",
    "vals_tensor = train_data_df.label\n",
    "image_dic = tf.lookup.StaticHashTable(tf.lookup.KeyValueTensorInitializer(keys_tensor, vals_tensor), default_value=-1)"
   ]
  },
  {
   "cell_type": "code",
   "execution_count": 8,
   "id": "12da0d81",
   "metadata": {},
   "outputs": [
    {
     "data": {
      "text/plain": [
       "4776"
      ]
     },
     "execution_count": 8,
     "metadata": {},
     "output_type": "execute_result"
    }
   ],
   "source": [
    "image_size"
   ]
  },
  {
   "cell_type": "code",
   "execution_count": 9,
   "id": "7e613983",
   "metadata": {},
   "outputs": [],
   "source": [
    "file_ds = tf.data.Dataset.list_files(train_data_path+'/*', shuffle=False)\n",
    "file_ds = file_ds.shuffle(image_size, reshuffle_each_iteration=False)"
   ]
  },
  {
   "cell_type": "code",
   "execution_count": 10,
   "id": "d01523a8",
   "metadata": {},
   "outputs": [],
   "source": [
    "normalization_layer = tf.keras.layers.Rescaling(1./255)\n",
    "\n",
    "def read_image(filepath):\n",
    "    img = tf.io.read_file(filepath)\n",
    "    img = tf.io.decode_jpeg(img, channels=3)\n",
    "    return normalization_layer(tf.image.resize(img, [image_width, image_height])), get_label(filepath)"
   ]
  },
  {
   "cell_type": "code",
   "execution_count": 11,
   "id": "bc4fdcec",
   "metadata": {},
   "outputs": [],
   "source": [
    "def get_label(filepath):\n",
    "    parts = tf.strings.split(filepath, os.path.sep)\n",
    "    \n",
    "    return image_dic.lookup(parts[-1])"
   ]
  },
  {
   "cell_type": "code",
   "execution_count": 12,
   "id": "dfdcacda",
   "metadata": {},
   "outputs": [],
   "source": [
    "full_ds = file_ds.map(read_image)"
   ]
  },
  {
   "cell_type": "code",
   "execution_count": 13,
   "id": "8067d924",
   "metadata": {},
   "outputs": [
    {
     "data": {
      "text/plain": [
       "<MapDataset element_spec=(TensorSpec(shape=(180, 180, 3), dtype=tf.float32, name=None), TensorSpec(shape=(), dtype=tf.int64, name=None))>"
      ]
     },
     "execution_count": 13,
     "metadata": {},
     "output_type": "execute_result"
    }
   ],
   "source": [
    "full_ds"
   ]
  },
  {
   "cell_type": "code",
   "execution_count": 14,
   "id": "93519850",
   "metadata": {},
   "outputs": [],
   "source": [
    "train_ds = full_ds.skip(int(image_size * validation_percentage))\n",
    "val_ds = full_ds.take(int(image_size * validation_percentage))"
   ]
  },
  {
   "cell_type": "code",
   "execution_count": 15,
   "id": "73b3605d",
   "metadata": {},
   "outputs": [],
   "source": [
    "train_ds = train_ds.batch(batch_size)\n",
    "val_ds = val_ds.batch(batch_size)"
   ]
  },
  {
   "cell_type": "code",
   "execution_count": 16,
   "id": "d6d19892",
   "metadata": {
    "scrolled": true
   },
   "outputs": [
    {
     "name": "stdout",
     "output_type": "stream",
     "text": [
      "tf.Tensor(\n",
      "[[[[0.9428667  0.9428667  0.9428667 ]\n",
      "   [0.9438548  0.9438548  0.9438548 ]\n",
      "   [0.9643331  0.9643331  0.9643331 ]\n",
      "   ...\n",
      "   [0.95525044 0.95525044 0.9630936 ]\n",
      "   [0.9502412  0.9502412  0.95808434]\n",
      "   [0.96140957 0.96140957 0.9692527 ]]\n",
      "\n",
      "  [[0.94225574 0.94225574 0.9393799 ]\n",
      "   [0.9495599  0.9495599  0.94773865]\n",
      "   [0.94124913 0.94124913 0.94124913]\n",
      "   ...\n",
      "   [0.9512418  0.9512418  0.9590849 ]\n",
      "   [0.94405234 0.94405234 0.9518955 ]\n",
      "   [0.95093703 0.95093703 0.95878017]]\n",
      "\n",
      "  [[0.9448052  0.9448052  0.93696207]\n",
      "   [0.9471751  0.9471751  0.94220775]\n",
      "   [0.94851136 0.94851136 0.94851136]\n",
      "   ...\n",
      "   [0.9547446  0.9547446  0.9625877 ]\n",
      "   [0.95053744 0.95053744 0.9583806 ]\n",
      "   [0.95619714 0.95619714 0.9640403 ]]\n",
      "\n",
      "  ...\n",
      "\n",
      "  [[0.94948703 0.94948703 0.95733017]\n",
      "   [0.9470298  0.9470298  0.954873  ]\n",
      "   [0.9456306  0.9456306  0.95347375]\n",
      "   ...\n",
      "   [0.9440331  0.9440331  0.9440331 ]\n",
      "   [0.9526365  0.9526365  0.9526365 ]\n",
      "   [0.95303303 0.95303303 0.95303303]]\n",
      "\n",
      "  [[0.95638347 0.95638347 0.96422666]\n",
      "   [0.9500654  0.9500654  0.9579085 ]\n",
      "   [0.9427016  0.9427016  0.9505447 ]\n",
      "   ...\n",
      "   [0.95918673 0.95918673 0.9641542 ]\n",
      "   [0.9492373  0.9492373  0.95420474]\n",
      "   [0.9517345  0.9517345  0.9567019 ]]\n",
      "\n",
      "  [[0.9499196  0.9499196  0.9577627 ]\n",
      "   [0.95040965 0.95040965 0.9582528 ]\n",
      "   [0.9495862  0.9495862  0.95742935]\n",
      "   ...\n",
      "   [0.95954746 0.95954746 0.9673906 ]\n",
      "   [0.9636677  0.9636677  0.9715108 ]\n",
      "   [0.9483464  0.9483464  0.9561895 ]]]\n",
      "\n",
      "\n",
      " [[[0.909804   0.909804   0.909804  ]\n",
      "   [0.9112419  0.9112419  0.9112419 ]\n",
      "   [0.91372555 0.91372555 0.91372555]\n",
      "   ...\n",
      "   [0.9215687  0.9215687  0.9215687 ]\n",
      "   [0.9215687  0.9215687  0.9215687 ]\n",
      "   [0.9215687  0.9215687  0.9215687 ]]\n",
      "\n",
      "  [[0.9099797  0.9099797  0.9099797 ]\n",
      "   [0.9121526  0.9121526  0.9121526 ]\n",
      "   [0.91372555 0.91372555 0.91372555]\n",
      "   ...\n",
      "   [0.9201308  0.9201308  0.9201308 ]\n",
      "   [0.9201308  0.9201308  0.9201308 ]\n",
      "   [0.9201308  0.9201308  0.9201308 ]]\n",
      "\n",
      "  [[0.9123869  0.9123869  0.9123869 ]\n",
      "   [0.91372555 0.91372555 0.91372555]\n",
      "   [0.9151901  0.9151901  0.9151901 ]\n",
      "   ...\n",
      "   [0.9152506  0.9152506  0.9152506 ]\n",
      "   [0.9152506  0.9152506  0.9152506 ]\n",
      "   [0.9152506  0.9152506  0.9152506 ]]\n",
      "\n",
      "  ...\n",
      "\n",
      "  [[0.9319947  0.9319947  0.9319947 ]\n",
      "   [0.9333334  0.9333334  0.9333334 ]\n",
      "   [0.9309369  0.9309369  0.9309369 ]\n",
      "   ...\n",
      "   [0.700341   0.4433208  0.37332568]\n",
      "   [0.7592612  0.51010346 0.4428849 ]\n",
      "   [0.7709623  0.53234446 0.46346772]]\n",
      "\n",
      "  [[0.9298911  0.9298911  0.9298911 ]\n",
      "   [0.9333334  0.9333334  0.9333334 ]\n",
      "   [0.9309369  0.9309369  0.9309369 ]\n",
      "   ...\n",
      "   [0.8558338  0.57523805 0.5057103 ]\n",
      "   [0.90103465 0.63150084 0.5707122 ]\n",
      "   [0.90797675 0.6498489  0.58614516]]\n",
      "\n",
      "  [[0.9298911  0.9298911  0.9298911 ]\n",
      "   [0.9333334  0.9333334  0.9333334 ]\n",
      "   [0.9309369  0.9309369  0.9309369 ]\n",
      "   ...\n",
      "   [0.92323726 0.628149   0.5591657 ]\n",
      "   [0.96226805 0.6795635  0.6203959 ]\n",
      "   [0.9671312  0.6961223  0.63729876]]]\n",
      "\n",
      "\n",
      " [[[0.9960785  1.         0.9921569 ]\n",
      "   [0.9960785  1.         0.9921569 ]\n",
      "   [0.99368197 1.         0.9897604 ]\n",
      "   ...\n",
      "   [1.         1.         1.        ]\n",
      "   [1.         1.         1.        ]\n",
      "   [1.         1.         1.        ]]\n",
      "\n",
      "  [[0.9960785  1.         0.9921569 ]\n",
      "   [0.9960785  1.         0.9921569 ]\n",
      "   [0.99368197 1.         0.9897604 ]\n",
      "   ...\n",
      "   [1.         1.         1.        ]\n",
      "   [1.         1.         1.        ]\n",
      "   [1.         1.         1.        ]]\n",
      "\n",
      "  [[0.9960785  1.         0.9921569 ]\n",
      "   [0.9960785  1.         0.9921569 ]\n",
      "   [0.99368197 1.         0.9897604 ]\n",
      "   ...\n",
      "   [1.         1.         1.        ]\n",
      "   [1.         1.         1.        ]\n",
      "   [1.         1.         1.        ]]\n",
      "\n",
      "  ...\n",
      "\n",
      "  [[0.9976036  0.9976036  0.9976036 ]\n",
      "   [0.99848235 0.99848235 0.99848235]\n",
      "   [0.9985355  0.9985355  0.9985355 ]\n",
      "   ...\n",
      "   [0.74085325 0.7420395  0.7414464 ]\n",
      "   [0.93965286 0.94270307 0.94117796]\n",
      "   [0.977882   0.98093224 0.97940713]]\n",
      "\n",
      "  [[0.99751633 0.99751633 0.99751633]\n",
      "   [0.99842703 0.99842703 0.99842703]\n",
      "   [1.         1.         1.        ]\n",
      "   ...\n",
      "   [0.88645244 0.89847153 0.8954287 ]\n",
      "   [0.97247577 0.98619694 0.98384845]\n",
      "   [0.9707129  0.9835234  0.98426574]]\n",
      "\n",
      "  [[0.9960785  0.9960785  0.9960785 ]\n",
      "   [0.99625427 0.99625427 0.99625427]\n",
      "   [0.9965577  0.9965577  0.9965577 ]\n",
      "   ...\n",
      "   [0.95918155 0.98385143 0.9772524 ]\n",
      "   [0.9359456  0.9581182  0.96069664]\n",
      "   [0.93703955 0.9527258  0.96347344]]]\n",
      "\n",
      "\n",
      " ...\n",
      "\n",
      "\n",
      " [[[0.6098204  0.613742   0.62942827]\n",
      "   [0.7342078  0.7381294  0.7509398 ]\n",
      "   [0.886766   0.8906876  0.8985307 ]\n",
      "   ...\n",
      "   [0.9363956  0.95208186 0.9560034 ]\n",
      "   [0.93398845 0.9496747  0.9535963 ]\n",
      "   [0.9307911  0.94647735 0.9503989 ]]\n",
      "\n",
      "  [[0.6259288  0.63416415 0.6484125 ]\n",
      "   [0.7669238  0.7751591  0.7865317 ]\n",
      "   [0.91994923 0.9255484  0.9328323 ]\n",
      "   ...\n",
      "   [0.94493103 0.9606173  0.9645389 ]\n",
      "   [0.9415687  0.95725495 0.9611765 ]\n",
      "   [0.9401308  0.95581704 0.9597386 ]]\n",
      "\n",
      "  [[0.65754056 0.67562336 0.68738806]\n",
      "   [0.79602045 0.8149819  0.822992  ]\n",
      "   [0.9370613  0.9518156  0.9557372 ]\n",
      "   ...\n",
      "   [0.9562092  0.97189546 0.975817  ]\n",
      "   [0.9528468  0.9685331  0.97245467]\n",
      "   [0.9522876  0.9679739  0.97189546]]\n",
      "\n",
      "  ...\n",
      "\n",
      "  [[0.35576418 0.39105833 0.41066617]\n",
      "   [0.5230992  0.5583933  0.57800114]\n",
      "   [0.73160124 0.7683599  0.7835742 ]\n",
      "   ...\n",
      "   [0.90401846 0.9513921  0.9725857 ]\n",
      "   [0.895708   0.9547061  0.98224425]\n",
      "   [0.8960349  0.9621158  0.99319553]]\n",
      "\n",
      "  [[0.16672005 0.20201418 0.22162202]\n",
      "   [0.31912187 0.35441598 0.37402382]\n",
      "   [0.538683   0.5739771  0.59358495]\n",
      "   ...\n",
      "   [0.88173497 0.93400824 0.95906276]\n",
      "   [0.8375798  0.90137076 0.93130547]\n",
      "   [0.79762876 0.8642954  0.90002835]]\n",
      "\n",
      "  [[0.04597414 0.08126827 0.10087611]\n",
      "   [0.12581779 0.1611119  0.18071975]\n",
      "   [0.27996305 0.31525716 0.33486497]\n",
      "   ...\n",
      "   [0.8407903  0.89482087 0.9240826 ]\n",
      "   [0.69948655 0.76327753 0.7975726 ]\n",
      "   [0.5659144  0.63258106 0.6716797 ]]]\n",
      "\n",
      "\n",
      " [[[0.89950573 0.9221937  0.91477126]\n",
      "   [0.88967615 0.91320556 0.9053624 ]\n",
      "   [0.88560885 0.9154491  0.91029537]\n",
      "   ...\n",
      "   [0.88054234 0.90407175 0.90407175]\n",
      "   [0.88296014 0.90648955 0.90648955]\n",
      "   [0.88717467 0.9107041  0.9107041 ]]\n",
      "\n",
      "  [[0.89289623 0.9054031  0.905316  ]\n",
      "   [0.88078004 0.90248805 0.89737695]\n",
      "   [0.88226587 0.9057953  0.9027451 ]\n",
      "   ...\n",
      "   [0.8876253  0.9082789  0.9097168 ]\n",
      "   [0.8883748  0.9090285  0.9104663 ]\n",
      "   [0.89455646 0.91521    0.9166479 ]]\n",
      "\n",
      "  [[0.90512955 0.9104891  0.9220601 ]\n",
      "   [0.8920262  0.9088308  0.9110748 ]\n",
      "   [0.88900995 0.91067547 0.91042125]\n",
      "   ...\n",
      "   [0.8911281  0.9068144  0.91073596]\n",
      "   [0.8886783  0.9043646  0.90828615]\n",
      "   [0.885696   0.90138227 0.90530384]]\n",
      "\n",
      "  ...\n",
      "\n",
      "  [[0.87116677 0.88685304 0.8907746 ]\n",
      "   [0.86962235 0.8853086  0.8892302 ]\n",
      "   [0.8705883  0.8862746  0.89019614]\n",
      "   ...\n",
      "   [0.86175257 0.9048898  0.8783102 ]\n",
      "   [0.8637038  0.89138687 0.8781917 ]\n",
      "   [0.873365   0.8852168  0.8811089 ]]\n",
      "\n",
      "  [[0.8716341  0.8873204  0.89124197]\n",
      "   [0.8721614  0.88784766 0.89176923]\n",
      "   [0.87458986 0.89027613 0.8941977 ]\n",
      "   ...\n",
      "   [0.8623605  0.9020481  0.87357324]\n",
      "   [0.8671854  0.89293665 0.88706356]\n",
      "   [0.87803954 0.88753664 0.89773464]]\n",
      "\n",
      "  [[0.8813945  0.8970808  0.90100235]\n",
      "   [0.8813945  0.8970808  0.90100235]\n",
      "   [0.88168734 0.8973736  0.9012952 ]\n",
      "   ...\n",
      "   [0.8700025  0.9013823  0.8766887 ]\n",
      "   [0.879309   0.89564407 0.9002663 ]\n",
      "   [0.89468455 0.8927385  0.9212942 ]]]\n",
      "\n",
      "\n",
      " [[[1.         1.         1.        ]\n",
      "   [1.         1.         1.        ]\n",
      "   [1.         1.         1.        ]\n",
      "   ...\n",
      "   [1.         1.         1.        ]\n",
      "   [1.         1.         1.        ]\n",
      "   [1.         1.         1.        ]]\n",
      "\n",
      "  [[1.         1.         1.        ]\n",
      "   [1.         1.         1.        ]\n",
      "   [1.         1.         1.        ]\n",
      "   ...\n",
      "   [1.         1.         1.        ]\n",
      "   [1.         1.         1.        ]\n",
      "   [1.         1.         1.        ]]\n",
      "\n",
      "  [[1.         1.         1.        ]\n",
      "   [1.         1.         1.        ]\n",
      "   [1.         1.         1.        ]\n",
      "   ...\n",
      "   [1.         1.         1.        ]\n",
      "   [1.         1.         1.        ]\n",
      "   [1.         1.         1.        ]]\n",
      "\n",
      "  ...\n",
      "\n",
      "  [[1.         1.         1.        ]\n",
      "   [1.         1.         1.        ]\n",
      "   [1.         1.         1.        ]\n",
      "   ...\n",
      "   [0.9956066  0.9956066  0.98776346]\n",
      "   [0.99599856 0.99599856 0.9881554 ]\n",
      "   [0.9965505  0.9965505  0.98870736]]\n",
      "\n",
      "  [[1.         1.         1.        ]\n",
      "   [1.         1.         1.        ]\n",
      "   [1.         1.         1.        ]\n",
      "   ...\n",
      "   [0.9906171  0.9906171  0.98277396]\n",
      "   [0.9945361  0.9945361  0.98669297]\n",
      "   [0.9973001  0.9973001  0.98945695]]\n",
      "\n",
      "  [[1.         1.         1.        ]\n",
      "   [1.         1.         1.        ]\n",
      "   [1.         1.         1.        ]\n",
      "   ...\n",
      "   [0.99818957 0.99818957 0.99034643]\n",
      "   [0.99258095 0.99258095 0.9847378 ]\n",
      "   [0.9957164  0.9957164  0.98787326]]]], shape=(8, 180, 180, 3), dtype=float32) tf.Tensor([51 48 50 23 46 15 14 14], shape=(8,), dtype=int64)\n",
      "Image shape:  (8, 180, 180, 3)\n",
      "Label:  [51 48 50 23 46 15 14 14]\n"
     ]
    }
   ],
   "source": [
    "for image, label in train_ds.take(1):\n",
    "    print(image, label)\n",
    "    print(\"Image shape: \", image.numpy().shape)\n",
    "    print(\"Label: \", label.numpy())"
   ]
  },
  {
   "cell_type": "code",
   "execution_count": 17,
   "id": "609eed0e",
   "metadata": {},
   "outputs": [],
   "source": [
    "model = keras.models.load_weights('/home/maxxt/Poker-Reader/model_cur.h5')"
   ]
  },
  {
   "cell_type": "code",
   "execution_count": null,
   "id": "593f2e21",
   "metadata": {},
   "outputs": [],
   "source": []
  },
  {
   "cell_type": "code",
   "execution_count": 18,
   "id": "1c234246",
   "metadata": {},
   "outputs": [
    {
     "name": "stdout",
     "output_type": "stream",
     "text": [
      "Model: \"sequential_7\"\n",
      "_________________________________________________________________\n",
      " Layer (type)                Output Shape              Param #   \n",
      "=================================================================\n",
      " batch_normalization_27 (Bat  (None, 180, 180, 3)      12        \n",
      " chNormalization)                                                \n",
      "                                                                 \n",
      " conv2d_21 (Conv2D)          (None, 178, 178, 32)      896       \n",
      "                                                                 \n",
      " activation_18 (Activation)  (None, 178, 178, 32)      0         \n",
      "                                                                 \n",
      " batch_normalization_28 (Bat  (None, 178, 178, 32)     128       \n",
      " chNormalization)                                                \n",
      "                                                                 \n",
      " max_pooling2d_21 (MaxPoolin  (None, 89, 89, 32)       0         \n",
      " g2D)                                                            \n",
      "                                                                 \n",
      " conv2d_22 (Conv2D)          (None, 87, 87, 64)        18496     \n",
      "                                                                 \n",
      " activation_19 (Activation)  (None, 87, 87, 64)        0         \n",
      "                                                                 \n",
      " batch_normalization_29 (Bat  (None, 87, 87, 64)       256       \n",
      " chNormalization)                                                \n",
      "                                                                 \n",
      " max_pooling2d_22 (MaxPoolin  (None, 43, 43, 64)       0         \n",
      " g2D)                                                            \n",
      "                                                                 \n",
      " conv2d_23 (Conv2D)          (None, 41, 41, 64)        36928     \n",
      "                                                                 \n",
      " activation_20 (Activation)  (None, 41, 41, 64)        0         \n",
      "                                                                 \n",
      " batch_normalization_30 (Bat  (None, 41, 41, 64)       256       \n",
      " chNormalization)                                                \n",
      "                                                                 \n",
      " max_pooling2d_23 (MaxPoolin  (None, 20, 20, 64)       0         \n",
      " g2D)                                                            \n",
      "                                                                 \n",
      " conv2d_24 (Conv2D)          (None, 18, 18, 128)       73856     \n",
      "                                                                 \n",
      " activation_21 (Activation)  (None, 18, 18, 128)       0         \n",
      "                                                                 \n",
      " batch_normalization_31 (Bat  (None, 18, 18, 128)      512       \n",
      " chNormalization)                                                \n",
      "                                                                 \n",
      " max_pooling2d_24 (MaxPoolin  (None, 9, 9, 128)        0         \n",
      " g2D)                                                            \n",
      "                                                                 \n",
      " flatten_7 (Flatten)         (None, 10368)             0         \n",
      "                                                                 \n",
      " dropout_7 (Dropout)         (None, 10368)             0         \n",
      "                                                                 \n",
      " dense_7 (Dense)             (None, 53)                549557    \n",
      "                                                                 \n",
      "=================================================================\n",
      "Total params: 680,897\n",
      "Trainable params: 680,315\n",
      "Non-trainable params: 582\n",
      "_________________________________________________________________\n"
     ]
    }
   ],
   "source": [
    "model.summary()"
   ]
  },
  {
   "cell_type": "code",
   "execution_count": 19,
   "id": "bb8de656",
   "metadata": {},
   "outputs": [
    {
     "data": {
      "text/plain": [
       "\"\\nnum_classes = 53\\n\\nmodel = tf.keras.models.Sequential([\\n    tf.keras.layers.Input(shape=(180,180,3)),\\n    tf.keras.layers.BatchNormalization(),\\n    tf.keras.layers.Conv2D(32, (3,3)),\\n    tf.keras.layers.Activation('relu'),\\n    tf.keras.layers.BatchNormalization(),\\n    tf.keras.layers.MaxPooling2D(2, 2),\\n    tf.keras.layers.Conv2D(64, (3,3)),\\n    tf.keras.layers.Activation('relu'),\\n    tf.keras.layers.BatchNormalization(),\\n    tf.keras.layers.MaxPooling2D(2,2),\\n    tf.keras.layers.Conv2D(64, (3,3)),\\n    tf.keras.layers.Activation('relu'),\\n    tf.keras.layers.BatchNormalization(),\\n    tf.keras.layers.MaxPooling2D(2, 2),\\n    tf.keras.layers.Conv2D(128, (3,3)),\\n    tf.keras.layers.Activation('relu'),\\n    tf.keras.layers.BatchNormalization(),\\n    tf.keras.layers.MaxPooling2D(2,2),\\n    tf.keras.layers.Flatten(),\\n    tf.keras.layers.Dropout(0.5),\\n    tf.keras.layers.Dense(num_classes, activation='softmax')\\n])\\n\""
      ]
     },
     "execution_count": 19,
     "metadata": {},
     "output_type": "execute_result"
    }
   ],
   "source": [
    "\"\"\"\n",
    "num_classes = 53\n",
    "\n",
    "model = tf.keras.models.Sequential([\n",
    "    tf.keras.layers.Input(shape=(180,180,3)),\n",
    "    tf.keras.layers.BatchNormalization(),\n",
    "    tf.keras.layers.Conv2D(32, (3,3)),\n",
    "    tf.keras.layers.Activation('relu'),\n",
    "    tf.keras.layers.BatchNormalization(),\n",
    "    tf.keras.layers.MaxPooling2D(2, 2),\n",
    "    tf.keras.layers.Conv2D(64, (3,3)),\n",
    "    tf.keras.layers.Activation('relu'),\n",
    "    tf.keras.layers.BatchNormalization(),\n",
    "    tf.keras.layers.MaxPooling2D(2,2),\n",
    "    tf.keras.layers.Conv2D(64, (3,3)),\n",
    "    tf.keras.layers.Activation('relu'),\n",
    "    tf.keras.layers.BatchNormalization(),\n",
    "    tf.keras.layers.MaxPooling2D(2, 2),\n",
    "    tf.keras.layers.Conv2D(128, (3,3)),\n",
    "    tf.keras.layers.Activation('relu'),\n",
    "    tf.keras.layers.BatchNormalization(),\n",
    "    tf.keras.layers.MaxPooling2D(2,2),\n",
    "    tf.keras.layers.Flatten(),\n",
    "    tf.keras.layers.Dropout(0.5),\n",
    "    tf.keras.layers.Dense(num_classes, activation='softmax')\n",
    "])\n",
    "\"\"\""
   ]
  },
  {
   "cell_type": "code",
   "execution_count": 20,
   "id": "7786809b",
   "metadata": {},
   "outputs": [],
   "source": [
    "model.compile(\n",
    "    optimizer=tf.keras.optimizers.Adam(),\n",
    "    loss=tf.keras.losses.SparseCategoricalCrossentropy(),\n",
    "    metrics=['accuracy']\n",
    ")"
   ]
  },
  {
   "cell_type": "code",
   "execution_count": null,
   "id": "db9ed7d8",
   "metadata": {},
   "outputs": [],
   "source": [
    "ck_path = \"training/cp.ckpt\"\n",
    "ck_dir = os.path.dirname(ck_path)\n",
    "\n",
    "cp_callback = tf.keras.callbacks.ModelCheckpoint(filepath=ck_path,\n",
    "                                                 save_weights_only=True,\n",
    "                                                 verbose=1)"
   ]
  },
  {
   "cell_type": "code",
   "execution_count": 21,
   "id": "e41aa058",
   "metadata": {},
   "outputs": [
    {
     "name": "stdout",
     "output_type": "stream",
     "text": [
      "Epoch 1/3\n"
     ]
    },
    {
     "name": "stderr",
     "output_type": "stream",
     "text": [
      "2023-05-21 17:34:18.221104: I tensorflow/stream_executor/cuda/cuda_dnn.cc:384] Loaded cuDNN version 8901\n",
      "2023-05-21 17:34:23.413366: I tensorflow/core/platform/default/subprocess.cc:304] Start cannot spawn child process: No such file or directory\n",
      "2023-05-21 17:34:28.507318: I tensorflow/stream_executor/cuda/cuda_blas.cc:1614] TensorFloat-32 will be used for the matrix multiplication. This will only be logged once.\n"
     ]
    },
    {
     "name": "stdout",
     "output_type": "stream",
     "text": [
      "573/573 [==============================] - 281s 445ms/step - loss: 3.9088 - accuracy: 0.3133 - val_loss: 1.9303 - val_accuracy: 0.5276\n",
      "Epoch 2/3\n",
      "573/573 [==============================] - 259s 438ms/step - loss: 1.5412 - accuracy: 0.6030 - val_loss: 1.5770 - val_accuracy: 0.5930\n",
      "Epoch 3/3\n",
      "573/573 [==============================] - 248s 418ms/step - loss: 0.8809 - accuracy: 0.7505 - val_loss: 1.4666 - val_accuracy: 0.6583\n"
     ]
    }
   ],
   "source": [
    "history = model.fit(\n",
    "    train_ds,\n",
    "    validation_data=val_ds,\n",
    "    epochs=3,\n",
    "    batch_size=8,\n",
    "    callbacks=[cp_callback]\n",
    ")"
   ]
  },
  {
   "cell_type": "code",
   "execution_count": 22,
   "id": "cea4e828",
   "metadata": {},
   "outputs": [
    {
     "name": "stdout",
     "output_type": "stream",
     "text": [
      "Model: \"sequential_7\"\n",
      "_________________________________________________________________\n",
      " Layer (type)                Output Shape              Param #   \n",
      "=================================================================\n",
      " batch_normalization_27 (Bat  (None, 180, 180, 3)      12        \n",
      " chNormalization)                                                \n",
      "                                                                 \n",
      " conv2d_21 (Conv2D)          (None, 178, 178, 32)      896       \n",
      "                                                                 \n",
      " activation_18 (Activation)  (None, 178, 178, 32)      0         \n",
      "                                                                 \n",
      " batch_normalization_28 (Bat  (None, 178, 178, 32)     128       \n",
      " chNormalization)                                                \n",
      "                                                                 \n",
      " max_pooling2d_21 (MaxPoolin  (None, 89, 89, 32)       0         \n",
      " g2D)                                                            \n",
      "                                                                 \n",
      " conv2d_22 (Conv2D)          (None, 87, 87, 64)        18496     \n",
      "                                                                 \n",
      " activation_19 (Activation)  (None, 87, 87, 64)        0         \n",
      "                                                                 \n",
      " batch_normalization_29 (Bat  (None, 87, 87, 64)       256       \n",
      " chNormalization)                                                \n",
      "                                                                 \n",
      " max_pooling2d_22 (MaxPoolin  (None, 43, 43, 64)       0         \n",
      " g2D)                                                            \n",
      "                                                                 \n",
      " conv2d_23 (Conv2D)          (None, 41, 41, 64)        36928     \n",
      "                                                                 \n",
      " activation_20 (Activation)  (None, 41, 41, 64)        0         \n",
      "                                                                 \n",
      " batch_normalization_30 (Bat  (None, 41, 41, 64)       256       \n",
      " chNormalization)                                                \n",
      "                                                                 \n",
      " max_pooling2d_23 (MaxPoolin  (None, 20, 20, 64)       0         \n",
      " g2D)                                                            \n",
      "                                                                 \n",
      " conv2d_24 (Conv2D)          (None, 18, 18, 128)       73856     \n",
      "                                                                 \n",
      " activation_21 (Activation)  (None, 18, 18, 128)       0         \n",
      "                                                                 \n",
      " batch_normalization_31 (Bat  (None, 18, 18, 128)      512       \n",
      " chNormalization)                                                \n",
      "                                                                 \n",
      " max_pooling2d_24 (MaxPoolin  (None, 9, 9, 128)        0         \n",
      " g2D)                                                            \n",
      "                                                                 \n",
      " flatten_7 (Flatten)         (None, 10368)             0         \n",
      "                                                                 \n",
      " dropout_7 (Dropout)         (None, 10368)             0         \n",
      "                                                                 \n",
      " dense_7 (Dense)             (None, 53)                549557    \n",
      "                                                                 \n",
      "=================================================================\n",
      "Total params: 680,897\n",
      "Trainable params: 680,315\n",
      "Non-trainable params: 582\n",
      "_________________________________________________________________\n"
     ]
    }
   ],
   "source": [
    "model.summary()"
   ]
  },
  {
   "cell_type": "code",
   "execution_count": 23,
   "id": "7a628597",
   "metadata": {},
   "outputs": [
    {
     "data": {
      "image/png": "[encoded data removed]",
      "text/plain": [
       "<Figure size 800x800 with 2 Axes>"
      ]
     },
     "metadata": {},
     "output_type": "display_data"
    }
   ],
   "source": [
    "acc = history.history['accuracy']\n",
    "val_acc = history.history['val_accuracy']\n",
    "\n",
    "loss = history.history['loss']\n",
    "val_loss = history.history['val_loss']\n",
    "\n",
    "epochs_range = range(1,4)\n",
    "\n",
    "plt.figure(figsize=(8, 8))\n",
    "plt.subplot(1, 2, 1)\n",
    "plt.plot(epochs_range, acc, label='Training Accuracy')\n",
    "plt.plot(epochs_range, val_acc, label='Validation Accuracy')\n",
    "plt.legend(loc='lower right')\n",
    "plt.title('Training and Validation Accuracy')\n",
    "\n",
    "plt.subplot(1, 2, 2)\n",
    "plt.plot(epochs_range, loss, label='Training Loss')\n",
    "plt.plot(epochs_range, val_loss, label='Validation Loss')\n",
    "plt.legend(loc='upper right')\n",
    "plt.title('Training and Validation Loss')\n",
    "plt.show()"
   ]
  },
  {
   "cell_type": "code",
   "execution_count": 24,
   "id": "39905db9",
   "metadata": {},
   "outputs": [],
   "source": [
    "model.save_weights('model_05_23.h5')"
   ]
  },
  {
   "cell_type": "code",
   "execution_count": 25,
   "id": "6571c1c9",
   "metadata": {},
   "outputs": [
    {
     "name": "stdout",
     "output_type": "stream",
     "text": [
      "25/25 - 10s - loss: 1.4666 - accuracy: 0.6583 - 10s/epoch - 384ms/step\n"
     ]
    },
    {
     "data": {
      "text/plain": [
       "[1.466593861579895, 0.6582914590835571]"
      ]
     },
     "execution_count": 25,
     "metadata": {},
     "output_type": "execute_result"
    }
   ],
   "source": [
    "model.evaluate(val_ds, verbose = 2)"
   ]
  }
 ],
 "metadata": {
  "kernelspec": {
   "display_name": "Python 3 (ipykernel)",
   "language": "python",
   "name": "python3"
  },
  "language_info": {
   "codemirror_mode": {
    "name": "ipython",
    "version": 3
   },
   "file_extension": ".py",
   "mimetype": "text/x-python",
   "name": "python",
   "nbconvert_exporter": "python",
   "pygments_lexer": "ipython3",
   "version": "3.8.10"
  }
 },
 "nbformat": 4,
 "nbformat_minor": 5
}
